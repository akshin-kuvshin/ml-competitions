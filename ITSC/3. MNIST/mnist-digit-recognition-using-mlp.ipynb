{
 "cells": [
  {
   "cell_type": "markdown",
   "id": "c860ff2f",
   "metadata": {
    "papermill": {
     "duration": 0.005434,
     "end_time": "2025-08-24T11:29:04.379820",
     "exception": false,
     "start_time": "2025-08-24T11:29:04.374386",
     "status": "completed"
    },
    "tags": []
   },
   "source": [
    "# 0. Libraries."
   ]
  },
  {
   "cell_type": "code",
   "execution_count": 1,
   "id": "a05bf4c9",
   "metadata": {
    "execution": {
     "iopub.execute_input": "2025-08-24T11:29:04.390885Z",
     "iopub.status.busy": "2025-08-24T11:29:04.390120Z",
     "iopub.status.idle": "2025-08-24T11:29:12.958321Z",
     "shell.execute_reply": "2025-08-24T11:29:12.957393Z"
    },
    "papermill": {
     "duration": 8.574883,
     "end_time": "2025-08-24T11:29:12.959541",
     "exception": false,
     "start_time": "2025-08-24T11:29:04.384658",
     "status": "completed"
    },
    "tags": []
   },
   "outputs": [
    {
     "name": "stdout",
     "output_type": "stream",
     "text": [
      "Setup completed.\n"
     ]
    }
   ],
   "source": [
    "import torch\n",
    "from torch import nn, optim\n",
    "from torch.nn import functional as F\n",
    "from torch.utils.data import Subset, DataLoader\n",
    "from torchvision import datasets, transforms\n",
    "import numpy as np\n",
    "from matplotlib import pyplot as plt\n",
    "import operator as op\n",
    "\n",
    "print('Setup completed.')"
   ]
  },
  {
   "cell_type": "markdown",
   "id": "36d6daca",
   "metadata": {
    "papermill": {
     "duration": 0.004371,
     "end_time": "2025-08-24T11:29:12.968962",
     "exception": false,
     "start_time": "2025-08-24T11:29:12.964591",
     "status": "completed"
    },
    "tags": []
   },
   "source": [
    "# 1. Loading MNIST dataset."
   ]
  },
  {
   "cell_type": "code",
   "execution_count": 2,
   "id": "a9d8d55b",
   "metadata": {
    "execution": {
     "iopub.execute_input": "2025-08-24T11:29:12.978810Z",
     "iopub.status.busy": "2025-08-24T11:29:12.978496Z",
     "iopub.status.idle": "2025-08-24T11:29:12.982461Z",
     "shell.execute_reply": "2025-08-24T11:29:12.981931Z"
    },
    "papermill": {
     "duration": 0.010011,
     "end_time": "2025-08-24T11:29:12.983507",
     "exception": false,
     "start_time": "2025-08-24T11:29:12.973496",
     "status": "completed"
    },
    "tags": []
   },
   "outputs": [],
   "source": [
    "# hardcode.\n",
    "MNIST_mean = 0.1307\n",
    "MNIST_std = 0.3081\n",
    "\n",
    "transform = transforms.Compose([\n",
    "    transforms.ToTensor(), # converts digit's image to a (1, 28, 28) tensor pixel-by-pixel.\n",
    "    transforms.Normalize((MNIST_mean,), (MNIST_std,)), # normalizes (1, 28, 28) tensor. \n",
    "    transforms.Lambda(lambda x: x.view(-1)) # reshapes (1, 28, 28) tensor to (784,) tensor.\n",
    "])"
   ]
  },
  {
   "cell_type": "code",
   "execution_count": 3,
   "id": "c423ab83",
   "metadata": {
    "execution": {
     "iopub.execute_input": "2025-08-24T11:29:12.993212Z",
     "iopub.status.busy": "2025-08-24T11:29:12.992811Z",
     "iopub.status.idle": "2025-08-24T11:29:16.713284Z",
     "shell.execute_reply": "2025-08-24T11:29:16.712543Z"
    },
    "papermill": {
     "duration": 3.727986,
     "end_time": "2025-08-24T11:29:16.715949",
     "exception": false,
     "start_time": "2025-08-24T11:29:12.987963",
     "status": "completed"
    },
    "tags": []
   },
   "outputs": [
    {
     "name": "stderr",
     "output_type": "stream",
     "text": [
      "100%|██████████| 9.91M/9.91M [00:00<00:00, 18.0MB/s]\n",
      "100%|██████████| 28.9k/28.9k [00:00<00:00, 480kB/s]\n",
      "100%|██████████| 1.65M/1.65M [00:00<00:00, 4.47MB/s]\n",
      "100%|██████████| 4.54k/4.54k [00:00<00:00, 6.44MB/s]"
     ]
    },
    {
     "name": "stdout",
     "output_type": "stream",
     "text": [
      "Datasets loaded successfully.\n"
     ]
    },
    {
     "name": "stderr",
     "output_type": "stream",
     "text": [
      "\n"
     ]
    }
   ],
   "source": [
    "train = datasets.MNIST(\n",
    "    root='./data/',\n",
    "    download=True,\n",
    "    train=True,\n",
    "    transform=transform\n",
    ")\n",
    "test = datasets.MNIST(\n",
    "    root='./data/',\n",
    "    download=True,\n",
    "    train=False,\n",
    "    transform=transform\n",
    ")\n",
    "print('Datasets loaded successfully.')"
   ]
  },
  {
   "cell_type": "markdown",
   "id": "30636a16",
   "metadata": {
    "papermill": {
     "duration": 0.005692,
     "end_time": "2025-08-24T11:29:16.727853",
     "exception": false,
     "start_time": "2025-08-24T11:29:16.722161",
     "status": "completed"
    },
    "tags": []
   },
   "source": [
    "# 2. Researching some data's PRIKOLЫ)"
   ]
  },
  {
   "cell_type": "markdown",
   "id": "1aaeb1d7",
   "metadata": {
    "papermill": {
     "duration": 0.00492,
     "end_time": "2025-08-24T11:29:16.737953",
     "exception": false,
     "start_time": "2025-08-24T11:29:16.733033",
     "status": "completed"
    },
    "tags": []
   },
   "source": [
    "### 2.1. Displaying several handwritten digits."
   ]
  },
  {
   "cell_type": "code",
   "execution_count": 4,
   "id": "cb6a0a4f",
   "metadata": {
    "execution": {
     "iopub.execute_input": "2025-08-24T11:29:16.749032Z",
     "iopub.status.busy": "2025-08-24T11:29:16.748817Z",
     "iopub.status.idle": "2025-08-24T11:29:17.336444Z",
     "shell.execute_reply": "2025-08-24T11:29:17.335796Z"
    },
    "papermill": {
     "duration": 0.594541,
     "end_time": "2025-08-24T11:29:17.337638",
     "exception": false,
     "start_time": "2025-08-24T11:29:16.743097",
     "status": "completed"
    },
    "tags": []
   },
   "outputs": [
    {
     "data": {
      "image/png": "[encoded data removed]",
      "text/plain": [
       "<Figure size 600x600 with 9 Axes>"
      ]
     },
     "metadata": {},
     "output_type": "display_data"
    }
   ],
   "source": [
    "# this cell's code was mostly taken from this notebook:\n",
    "# https://www.kaggle.com/code/faduregis/computer-vision-with-pytorch-using-mnist-dataset\n",
    "\n",
    "torch.manual_seed(42)\n",
    "\n",
    "fig = plt.figure(figsize=(6, 6))\n",
    "fig.suptitle('Several samples of handwritten digits:', fontweight='bold')\n",
    "rows, cols = 3, 3\n",
    "for i in range(rows * cols):\n",
    "    index = torch.randint(len(train), size=(1,)).item()\n",
    "    image, label = train[index]\n",
    "    image = image.reshape(28, 28)\n",
    "    fig.add_subplot(rows, cols, i + 1)\n",
    "    plt.imshow(image.squeeze(), cmap='gray')\n",
    "    plt.title(train.classes[label])\n",
    "    plt.axis(False)\n",
    "fig.show()"
   ]
  },
  {
   "cell_type": "markdown",
   "id": "26f48042",
   "metadata": {
    "papermill": {
     "duration": 0.005351,
     "end_time": "2025-08-24T11:29:17.349172",
     "exception": false,
     "start_time": "2025-08-24T11:29:17.343821",
     "status": "completed"
    },
    "tags": []
   },
   "source": [
    "### 2.2. Plotting distribution of images by digits written on them."
   ]
  },
  {
   "cell_type": "code",
   "execution_count": 5,
   "id": "f5cb6e23",
   "metadata": {
    "execution": {
     "iopub.execute_input": "2025-08-24T11:29:17.361139Z",
     "iopub.status.busy": "2025-08-24T11:29:17.360725Z",
     "iopub.status.idle": "2025-08-24T11:29:17.557995Z",
     "shell.execute_reply": "2025-08-24T11:29:17.557222Z"
    },
    "papermill": {
     "duration": 0.204511,
     "end_time": "2025-08-24T11:29:17.559148",
     "exception": false,
     "start_time": "2025-08-24T11:29:17.354637",
     "status": "completed"
    },
    "tags": []
   },
   "outputs": [
    {
     "data": {
      "image/png": "[encoded data removed]",
      "text/plain": [
       "<Figure size 640x480 with 1 Axes>"
      ]
     },
     "metadata": {},
     "output_type": "display_data"
    }
   ],
   "source": [
    "classes, counts = train.targets.unique(return_counts=True)\n",
    "x = plt.bar(\n",
    "    classes,\n",
    "    counts,\n",
    "    edgecolor='black',\n",
    "    tick_label=classes\n",
    ")\n",
    "plt.bar_label(x)\n",
    "plt.grid(axis='y', alpha=0.3)\n",
    "plt.title('Distribution of images by digits written on them')\n",
    "plt.xlabel('Digits')\n",
    "plt.ylabel('Frequency')\n",
    "plt.ylim(0, 8_000)\n",
    "plt.show()"
   ]
  },
  {
   "cell_type": "markdown",
   "id": "7eda14bf",
   "metadata": {
    "papermill": {
     "duration": 0.005913,
     "end_time": "2025-08-24T11:29:17.571704",
     "exception": false,
     "start_time": "2025-08-24T11:29:17.565791",
     "status": "completed"
    },
    "tags": []
   },
   "source": [
    "#### [!] This one code cell below will help us in my hypothesis (I haven't written about it yet) a little bit later..."
   ]
  },
  {
   "cell_type": "code",
   "execution_count": 6,
   "id": "a40d6697",
   "metadata": {
    "execution": {
     "iopub.execute_input": "2025-08-24T11:29:17.584964Z",
     "iopub.status.busy": "2025-08-24T11:29:17.584381Z",
     "iopub.status.idle": "2025-08-24T11:29:17.589404Z",
     "shell.execute_reply": "2025-08-24T11:29:17.588823Z"
    },
    "papermill": {
     "duration": 0.012692,
     "end_time": "2025-08-24T11:29:17.590362",
     "exception": false,
     "start_time": "2025-08-24T11:29:17.577670",
     "status": "completed"
    },
    "tags": []
   },
   "outputs": [
    {
     "name": "stdout",
     "output_type": "stream",
     "text": [
      "Digits sorted by their frequency (in ascending order): [5, 4, 8, 6, 0, 9, 2, 3, 7, 1].\n"
     ]
    }
   ],
   "source": [
    "classes = [c.item() for c in classes]\n",
    "counts = [c.item() for c in counts]\n",
    "paired = list(zip(classes, counts))\n",
    "paired.sort(key=op.itemgetter(1))\n",
    "digits_sorted_by_frequency = [digit for digit, _ in paired]\n",
    "print(f'Digits sorted by their frequency (in ascending order): {digits_sorted_by_frequency}.')"
   ]
  },
  {
   "cell_type": "markdown",
   "id": "61bc4097",
   "metadata": {
    "papermill": {
     "duration": 0.005801,
     "end_time": "2025-08-24T11:29:17.602419",
     "exception": false,
     "start_time": "2025-08-24T11:29:17.596618",
     "status": "completed"
    },
    "tags": []
   },
   "source": [
    "### 2.3. Getting mean image for each of digits (for each digit I calculate every pixel's mean value and display result on the screen);\n",
    "### 2.4. Calculaing mean pixel's standard deviation (further - MPSD) for each digit; detecting digits with the smallest and the biggest values of MPSD.\n",
    "##### P.S.: ChatGPT's ideas, my (with help by ChatGPT, of course) realizations."
   ]
  },
  {
   "cell_type": "code",
   "execution_count": 7,
   "id": "f76d4fad",
   "metadata": {
    "execution": {
     "iopub.execute_input": "2025-08-24T11:29:17.615322Z",
     "iopub.status.busy": "2025-08-24T11:29:17.614879Z",
     "iopub.status.idle": "2025-08-24T11:29:28.550523Z",
     "shell.execute_reply": "2025-08-24T11:29:28.549514Z"
    },
    "papermill": {
     "duration": 10.943741,
     "end_time": "2025-08-24T11:29:28.552116",
     "exception": false,
     "start_time": "2025-08-24T11:29:17.608375",
     "status": "completed"
    },
    "tags": []
   },
   "outputs": [
    {
     "data": {
      "image/png": "[encoded data removed]",
      "text/plain": [
       "<Figure size 1000x400 with 10 Axes>"
      ]
     },
     "metadata": {},
     "output_type": "display_data"
    },
    {
     "name": "stdout",
     "output_type": "stream",
     "text": [
      "MPSDs for each digit:\n",
      "0 - 0.572236\n",
      "1 - 0.307724\n",
      "2 - 0.599240\n",
      "3 - 0.549594\n",
      "4 - 0.519821\n",
      "5 - 0.570436\n",
      "6 - 0.519783\n",
      "7 - 0.483978\n",
      "8 - 0.544318\n",
      "9 - 0.482412\n",
      "Digit with the minimal MPSD: 1.\n",
      "Digit with the maximal MPSD: 2.\n"
     ]
    }
   ],
   "source": [
    "MPSDs = []\n",
    "\n",
    "fig = plt.figure(figsize=(10, 4))\n",
    "fig.suptitle('Mean image for each of digits:', fontweight='bold')\n",
    "rows, cols = 2, 5\n",
    "for digit in range(10):\n",
    "    mask = train.targets == digit\n",
    "    indexes = mask.nonzero(as_tuple=True)[0]\n",
    "    subset = Subset(train, indexes)\n",
    "    images = torch.stack([t[0] for t in subset])\n",
    "    \n",
    "    mean_image = images.mean(dim=0).reshape(28, 28)\n",
    "    fig.add_subplot(rows, cols, digit + 1)\n",
    "    plt.imshow(mean_image.squeeze(), cmap='gray')\n",
    "    plt.title(train.classes[digit])\n",
    "    plt.axis(False)\n",
    "\n",
    "    MPSDs.append(images.std(dim=0).mean())\n",
    "plt.show()\n",
    "\n",
    "print('MPSDs for each digit:')\n",
    "for digit in range(10):\n",
    "    print(f'{digit} - {MPSDs[digit]:.6f}')\n",
    "print(f'Digit with the minimal MPSD: {torch.tensor(MPSDs).argmin()}.')\n",
    "print(f'Digit with the maximal MPSD: {torch.tensor(MPSDs).argmax()}.')"
   ]
  },
  {
   "cell_type": "markdown",
   "id": "e0dbf9a6",
   "metadata": {
    "papermill": {
     "duration": 0.006663,
     "end_time": "2025-08-24T11:29:28.566174",
     "exception": false,
     "start_time": "2025-08-24T11:29:28.559511",
     "status": "completed"
    },
    "tags": []
   },
   "source": [
    "#### [!] Code cell below is the second one, which will be required afterwards."
   ]
  },
  {
   "cell_type": "code",
   "execution_count": 8,
   "id": "50339ee1",
   "metadata": {
    "execution": {
     "iopub.execute_input": "2025-08-24T11:29:28.580544Z",
     "iopub.status.busy": "2025-08-24T11:29:28.580302Z",
     "iopub.status.idle": "2025-08-24T11:29:28.585116Z",
     "shell.execute_reply": "2025-08-24T11:29:28.584589Z"
    },
    "papermill": {
     "duration": 0.013257,
     "end_time": "2025-08-24T11:29:28.586134",
     "exception": false,
     "start_time": "2025-08-24T11:29:28.572877",
     "status": "completed"
    },
    "tags": []
   },
   "outputs": [
    {
     "name": "stdout",
     "output_type": "stream",
     "text": [
      "Digits sorted by their MPSD (in ascending order): [1, 9, 7, 6, 4, 8, 3, 5, 0, 2].\n"
     ]
    }
   ],
   "source": [
    "paired = list(zip(range(10), MPSDs))\n",
    "paired.sort(key=op.itemgetter(1))\n",
    "digits_sorted_by_MPSD = [digit for digit, _ in paired]\n",
    "print(f'Digits sorted by their MPSD (in ascending order): {digits_sorted_by_MPSD}.')"
   ]
  },
  {
   "cell_type": "markdown",
   "id": "96331113",
   "metadata": {
    "papermill": {
     "duration": 0.00644,
     "end_time": "2025-08-24T11:29:28.599367",
     "exception": false,
     "start_time": "2025-08-24T11:29:28.592927",
     "status": "completed"
    },
    "tags": []
   },
   "source": [
    "### 2.5. My hypotesis."
   ]
  },
  {
   "cell_type": "code",
   "execution_count": 9,
   "id": "ff53b064",
   "metadata": {
    "execution": {
     "iopub.execute_input": "2025-08-24T11:29:28.613673Z",
     "iopub.status.busy": "2025-08-24T11:29:28.613071Z",
     "iopub.status.idle": "2025-08-24T11:29:28.621021Z",
     "shell.execute_reply": "2025-08-24T11:29:28.620382Z"
    },
    "papermill": {
     "duration": 0.016117,
     "end_time": "2025-08-24T11:29:28.622048",
     "exception": false,
     "start_time": "2025-08-24T11:29:28.605931",
     "status": "completed"
    },
    "tags": []
   },
   "outputs": [
    {
     "name": "stdout",
     "output_type": "stream",
     "text": [
      "\n",
      "Correlations between two orders of digits:\n",
      "1) Sorted by their frequency;\n",
      "2) Sorted by their MPSD.\n",
      "\n",
      "Direct correlation (both orders are ascending) = 0.309;\n",
      "Reverse correlation (one order is ascending, another one is descending) = -0.018.\n",
      "\n"
     ]
    }
   ],
   "source": [
    "direct_correlation = np.corrcoef(\n",
    "    digits_sorted_by_frequency,\n",
    "    digits_sorted_by_MPSD\n",
    ")[0][1]\n",
    "reverse_correlation = np.corrcoef(\n",
    "    digits_sorted_by_frequency,\n",
    "    digits_sorted_by_MPSD[::-1]\n",
    ")[0][1]\n",
    "print(f'''\n",
    "Correlations between two orders of digits:\n",
    "1) Sorted by their frequency;\n",
    "2) Sorted by their MPSD.\n",
    "\n",
    "Direct correlation (both orders are ascending) = {direct_correlation:.3f};\n",
    "Reverse correlation (one order is ascending, another one is descending) = {reverse_correlation:.3f}.\n",
    "''')"
   ]
  },
  {
   "cell_type": "markdown",
   "id": "a0ddeb51",
   "metadata": {
    "papermill": {
     "duration": 0.006389,
     "end_time": "2025-08-24T11:29:28.635101",
     "exception": false,
     "start_time": "2025-08-24T11:29:28.628712",
     "status": "completed"
    },
    "tags": []
   },
   "source": [
    "### My hypotesis was the next:\n",
    "### \"_Let's consider one certain digit. Then the power of how strong images of this digit differ from each other (in our case, metric of this 'difference power' was MPSD) depends on how many images of this digit we have._\"\n",
    "### This thought came in my mind because digit 1 has the biggest images number of it and the the smallest MPSD. However, correlation coefficient's absolute value isn't so big, hence my hypotesis isn't truthful and the fun fact about digit 1 is caused only by that people often write digit 1 just as a single stick which is really simple geometric object, so this digit's MPSD is such a small - only about 0.3.\n",
    "### :)"
   ]
  },
  {
   "cell_type": "markdown",
   "id": "99abb5ef",
   "metadata": {
    "papermill": {
     "duration": 0.006524,
     "end_time": "2025-08-24T11:29:28.648373",
     "exception": false,
     "start_time": "2025-08-24T11:29:28.641849",
     "status": "completed"
    },
    "tags": []
   },
   "source": [
    "# 3. Creating a DataLoader."
   ]
  },
  {
   "cell_type": "code",
   "execution_count": 10,
   "id": "f0653aab",
   "metadata": {
    "execution": {
     "iopub.execute_input": "2025-08-24T11:29:28.663121Z",
     "iopub.status.busy": "2025-08-24T11:29:28.662403Z",
     "iopub.status.idle": "2025-08-24T11:29:28.667336Z",
     "shell.execute_reply": "2025-08-24T11:29:28.666769Z"
    },
    "papermill": {
     "duration": 0.013582,
     "end_time": "2025-08-24T11:29:28.668564",
     "exception": false,
     "start_time": "2025-08-24T11:29:28.654982",
     "status": "completed"
    },
    "tags": []
   },
   "outputs": [
    {
     "name": "stdout",
     "output_type": "stream",
     "text": [
      "Both DataLoader's have been successfully created.\n"
     ]
    }
   ],
   "source": [
    "BATCH_SIZE = 256\n",
    "\n",
    "train_DL = DataLoader(train, batch_size=BATCH_SIZE, shuffle=True, num_workers=2, pin_memory=True)\n",
    "test_DL = DataLoader(test, batch_size=BATCH_SIZE, shuffle=False, num_workers=2, pin_memory=True)\n",
    "\n",
    "print('Both DataLoader\\'s have been successfully created.')"
   ]
  },
  {
   "cell_type": "code",
   "execution_count": 11,
   "id": "8279c571",
   "metadata": {
    "execution": {
     "iopub.execute_input": "2025-08-24T11:29:28.683821Z",
     "iopub.status.busy": "2025-08-24T11:29:28.683195Z",
     "iopub.status.idle": "2025-08-24T11:29:29.089187Z",
     "shell.execute_reply": "2025-08-24T11:29:29.088274Z"
    },
    "papermill": {
     "duration": 0.414684,
     "end_time": "2025-08-24T11:29:29.090335",
     "exception": false,
     "start_time": "2025-08-24T11:29:28.675651",
     "status": "completed"
    },
    "tags": []
   },
   "outputs": [
    {
     "name": "stdout",
     "output_type": "stream",
     "text": [
      "torch.Size([256, 784])\n",
      "torch.Size([256])\n"
     ]
    }
   ],
   "source": [
    "batch_example = next(iter(train_DL))\n",
    "print(batch_example[0].shape) # (BATCH_SIZE) images.\n",
    "print(batch_example[1].shape) # (BATCH_SIZE) labels."
   ]
  },
  {
   "cell_type": "markdown",
   "id": "93885db1",
   "metadata": {
    "papermill": {
     "duration": 0.007032,
     "end_time": "2025-08-24T11:29:29.104818",
     "exception": false,
     "start_time": "2025-08-24T11:29:29.097786",
     "status": "completed"
    },
    "tags": []
   },
   "source": [
    "# 4. Creating a model."
   ]
  },
  {
   "cell_type": "code",
   "execution_count": 12,
   "id": "f3f86b0c",
   "metadata": {
    "execution": {
     "iopub.execute_input": "2025-08-24T11:29:29.120058Z",
     "iopub.status.busy": "2025-08-24T11:29:29.119447Z",
     "iopub.status.idle": "2025-08-24T11:29:29.126227Z",
     "shell.execute_reply": "2025-08-24T11:29:29.125622Z"
    },
    "papermill": {
     "duration": 0.0156,
     "end_time": "2025-08-24T11:29:29.127209",
     "exception": false,
     "start_time": "2025-08-24T11:29:29.111609",
     "status": "completed"
    },
    "tags": []
   },
   "outputs": [
    {
     "name": "stdout",
     "output_type": "stream",
     "text": [
      "'ThreeLayerPerceptron' class has been successfully defined.\n"
     ]
    }
   ],
   "source": [
    "class ThreeLayerPerceptron(nn.Module):\n",
    "    def __init__(self,\n",
    "                 inputlayer_size:   int,\n",
    "                 hiddenlayer1_size: int,\n",
    "                 hiddenlayer2_size: int,\n",
    "                 hiddenlayer3_size: int,\n",
    "                 outputlayer_size:  int) -> None:\n",
    "        \n",
    "        super().__init__() # calling the constructor of nn.Module class (the parent class).\n",
    "\n",
    "        # defining connections between model's layers ('fc' stands for 'fully connected').\n",
    "        self.fc1 = nn.Linear(inputlayer_size, hiddenlayer1_size)\n",
    "        self.fc2 = nn.Linear(hiddenlayer1_size, hiddenlayer2_size)\n",
    "        self.fc3 = nn.Linear(hiddenlayer2_size, hiddenlayer3_size)\n",
    "        self.out = nn.Linear(hiddenlayer3_size, outputlayer_size)\n",
    "\n",
    "        return\n",
    "\n",
    "    def forward(self,\n",
    "                x: torch.Tensor) -> torch.Tensor:\n",
    "        x = F.relu(self.fc1(x))\n",
    "        x = F.relu(self.fc2(x))\n",
    "        x = F.relu(self.fc3(x))\n",
    "        x = self.out(x)\n",
    "        # we don't apply Softmax function to output layer's values\n",
    "        # because our loss function will be CrossEntropyLoss\n",
    "        # which will apply Softmax by itself.\n",
    "        return x\n",
    "\n",
    "print('\\'ThreeLayerPerceptron\\' class has been successfully defined.')"
   ]
  },
  {
   "cell_type": "code",
   "execution_count": 13,
   "id": "0799b151",
   "metadata": {
    "execution": {
     "iopub.execute_input": "2025-08-24T11:29:29.142249Z",
     "iopub.status.busy": "2025-08-24T11:29:29.142044Z",
     "iopub.status.idle": "2025-08-24T11:29:29.146295Z",
     "shell.execute_reply": "2025-08-24T11:29:29.145614Z"
    },
    "papermill": {
     "duration": 0.013133,
     "end_time": "2025-08-24T11:29:29.147343",
     "exception": false,
     "start_time": "2025-08-24T11:29:29.134210",
     "status": "completed"
    },
    "tags": []
   },
   "outputs": [
    {
     "name": "stdout",
     "output_type": "stream",
     "text": [
      "cuda\n"
     ]
    }
   ],
   "source": [
    "# if it's possible, we will train our model on GPU (CUDA), else - on CPU.\n",
    "device = torch.device('cuda' if torch.cuda.is_available() else 'cpu')\n",
    "print(device)"
   ]
  },
  {
   "cell_type": "code",
   "execution_count": 14,
   "id": "6e7211f2",
   "metadata": {
    "execution": {
     "iopub.execute_input": "2025-08-24T11:29:29.161901Z",
     "iopub.status.busy": "2025-08-24T11:29:29.161660Z",
     "iopub.status.idle": "2025-08-24T11:29:29.174485Z",
     "shell.execute_reply": "2025-08-24T11:29:29.173831Z"
    },
    "papermill": {
     "duration": 0.021288,
     "end_time": "2025-08-24T11:29:29.175547",
     "exception": false,
     "start_time": "2025-08-24T11:29:29.154259",
     "status": "completed"
    },
    "tags": []
   },
   "outputs": [
    {
     "name": "stdout",
     "output_type": "stream",
     "text": [
      "Everything is fine)\n"
     ]
    }
   ],
   "source": [
    "model = ThreeLayerPerceptron(28 ** 2, 256, 128, 64, 10).to(device) # the model itself.\n",
    "criterion = nn.CrossEntropyLoss() # loss function (idk how it calculates, but ChatGPT says it's ok).\n",
    "optimizer = optim.Adam(model.parameters(), lr=1e-3) # idk what it is at all, but, again, ChatGPT says it's ok.\n",
    "print('Everything is fine)')"
   ]
  },
  {
   "cell_type": "markdown",
   "id": "e964d25e",
   "metadata": {
    "papermill": {
     "duration": 0.006738,
     "end_time": "2025-08-24T11:29:29.189467",
     "exception": false,
     "start_time": "2025-08-24T11:29:29.182729",
     "status": "completed"
    },
    "tags": []
   },
   "source": [
    "# 5. Training loop."
   ]
  },
  {
   "cell_type": "code",
   "execution_count": 15,
   "id": "ca311c65",
   "metadata": {
    "execution": {
     "iopub.execute_input": "2025-08-24T11:29:29.204708Z",
     "iopub.status.busy": "2025-08-24T11:29:29.204095Z",
     "iopub.status.idle": "2025-08-24T11:31:47.317491Z",
     "shell.execute_reply": "2025-08-24T11:31:47.316546Z"
    },
    "papermill": {
     "duration": 138.12965,
     "end_time": "2025-08-24T11:31:47.326047",
     "exception": false,
     "start_time": "2025-08-24T11:29:29.196397",
     "status": "completed"
    },
    "tags": []
   },
   "outputs": [
    {
     "name": "stdout",
     "output_type": "stream",
     "text": [
      "Epoch 01: Train loss 0.3950, acc 0.8879 | Test loss 0.1750, acc 0.9463\n",
      "Epoch 02: Train loss 0.1413, acc 0.9577 | Test loss 0.1271, acc 0.9605\n",
      "Epoch 03: Train loss 0.0971, acc 0.9704 | Test loss 0.1053, acc 0.9667\n",
      "Epoch 04: Train loss 0.0706, acc 0.9784 | Test loss 0.0897, acc 0.9707\n",
      "Epoch 05: Train loss 0.0586, acc 0.9813 | Test loss 0.0852, acc 0.9743\n",
      "Epoch 06: Train loss 0.0432, acc 0.9867 | Test loss 0.0731, acc 0.9774\n",
      "Epoch 07: Train loss 0.0348, acc 0.9884 | Test loss 0.0747, acc 0.9774\n",
      "Epoch 08: Train loss 0.0292, acc 0.9908 | Test loss 0.0684, acc 0.9792\n",
      "Epoch 09: Train loss 0.0211, acc 0.9932 | Test loss 0.0781, acc 0.9783\n",
      "Epoch 10: Train loss 0.0203, acc 0.9932 | Test loss 0.0745, acc 0.9791\n",
      "Epoch 11: Train loss 0.0156, acc 0.9948 | Test loss 0.0697, acc 0.9819\n",
      "Epoch 12: Train loss 0.0139, acc 0.9953 | Test loss 0.0794, acc 0.9793\n",
      "Epoch 13: Train loss 0.0130, acc 0.9957 | Test loss 0.0917, acc 0.9776\n",
      "Epoch 14: Train loss 0.0156, acc 0.9949 | Test loss 0.0879, acc 0.9774\n",
      "Epoch 15: Train loss 0.0127, acc 0.9957 | Test loss 0.0948, acc 0.9791\n",
      "Epoch 16: Train loss 0.0110, acc 0.9962 | Test loss 0.0857, acc 0.9808\n",
      "Epoch 17: Train loss 0.0083, acc 0.9974 | Test loss 0.0807, acc 0.9820\n",
      "Epoch 18: Train loss 0.0115, acc 0.9962 | Test loss 0.0866, acc 0.9810\n",
      "Epoch 19: Train loss 0.0106, acc 0.9966 | Test loss 0.1030, acc 0.9779\n",
      "Epoch 20: Train loss 0.0091, acc 0.9968 | Test loss 0.1028, acc 0.9801\n"
     ]
    }
   ],
   "source": [
    "# hardcode.\n",
    "EPOCHS = 20\n",
    "\n",
    "LALA = [] # train_Loss, train_Acc, test_Loss, test_Acc.\n",
    "for epoch in range(EPOCHS):\n",
    "    \n",
    "    model.train() # turning on training mode.\n",
    "    total_loss = 0 # sum of losses for each sample.\n",
    "    correct = 0 # number of correct predictions.\n",
    "    for x, y in train_DL:\n",
    "        x, y = x.to(device), y.to(device) # moving both input and output tensors to the GPU (mostly).\n",
    "        optimizer.zero_grad() # clearing previous gradients.\n",
    "\n",
    "        logits = model(x) # outputs of the model when x is moved to the input.\n",
    "        loss = criterion(logits, y) # value of loss function.\n",
    "        loss.backward() # backpropagation and calculating gradients.\n",
    "        optimizer.step() # updating model's weights.\n",
    "\n",
    "        total_loss += loss.item() * len(y)\n",
    "        # we have to multiply our loss by len(y) (current batch's size\n",
    "        # which is usually equals to BATCH_SIZE excepting, maybe, the last batch)\n",
    "        # because loss.item() is the average loss among all samples in current batch.\n",
    "        correct += (logits.argmax(1) == y).sum().item()\n",
    "    train_loss = total_loss / len(train)\n",
    "    train_acc = correct / len(train) # 'acc' stands for 'accuracy'.\n",
    "\n",
    "    model.eval() # turning on evaluation mode.\n",
    "    total_loss = correct = 0\n",
    "    with torch.no_grad(): # in this block gradients won't be calculated for any operation on the model.\n",
    "        for x, y in test_DL:\n",
    "            x, y = x.to(device), y.to(device)\n",
    "    \n",
    "            logits = model(x)\n",
    "            loss = criterion(logits, y)\n",
    "    \n",
    "            total_loss += loss.item() * len(y)\n",
    "            correct += (logits.argmax(1) == y).sum().item()\n",
    "    test_loss = total_loss / len(test)\n",
    "    test_acc = correct / len(test)\n",
    "\n",
    "    print(f'Epoch {epoch + 1:02d}: '\n",
    "          f'Train loss {train_loss:.4f}, acc {train_acc:.4f} | '\n",
    "          f'Test loss {test_loss:.4f}, acc {test_acc:.4f}')\n",
    "    LALA.append((train_loss, train_acc, test_loss, test_acc))"
   ]
  },
  {
   "cell_type": "markdown",
   "id": "d615fe03",
   "metadata": {
    "papermill": {
     "duration": 0.007402,
     "end_time": "2025-08-24T11:31:47.341440",
     "exception": false,
     "start_time": "2025-08-24T11:31:47.334038",
     "status": "completed"
    },
    "tags": []
   },
   "source": [
    "# 6. Plots of LALA."
   ]
  },
  {
   "cell_type": "code",
   "execution_count": 16,
   "id": "acf1517f",
   "metadata": {
    "execution": {
     "iopub.execute_input": "2025-08-24T11:31:47.357576Z",
     "iopub.status.busy": "2025-08-24T11:31:47.357315Z",
     "iopub.status.idle": "2025-08-24T11:31:47.372150Z",
     "shell.execute_reply": "2025-08-24T11:31:47.371576Z"
    },
    "papermill": {
     "duration": 0.024287,
     "end_time": "2025-08-24T11:31:47.373248",
     "exception": false,
     "start_time": "2025-08-24T11:31:47.348961",
     "status": "completed"
    },
    "tags": []
   },
   "outputs": [
    {
     "data": {
      "text/plain": [
       "tensor([[0.3950, 0.8879, 0.1750, 0.9463],\n",
       "        [0.1413, 0.9577, 0.1271, 0.9605],\n",
       "        [0.0971, 0.9704, 0.1053, 0.9667],\n",
       "        [0.0706, 0.9784, 0.0897, 0.9707],\n",
       "        [0.0586, 0.9813, 0.0852, 0.9743],\n",
       "        [0.0432, 0.9867, 0.0731, 0.9774],\n",
       "        [0.0348, 0.9884, 0.0747, 0.9774],\n",
       "        [0.0292, 0.9908, 0.0684, 0.9792],\n",
       "        [0.0211, 0.9932, 0.0781, 0.9783],\n",
       "        [0.0203, 0.9932, 0.0745, 0.9791],\n",
       "        [0.0156, 0.9948, 0.0697, 0.9819],\n",
       "        [0.0139, 0.9953, 0.0794, 0.9793],\n",
       "        [0.0130, 0.9956, 0.0917, 0.9776],\n",
       "        [0.0156, 0.9949, 0.0879, 0.9774],\n",
       "        [0.0127, 0.9957, 0.0948, 0.9791],\n",
       "        [0.0110, 0.9962, 0.0857, 0.9808],\n",
       "        [0.0083, 0.9974, 0.0807, 0.9820],\n",
       "        [0.0115, 0.9962, 0.0866, 0.9810],\n",
       "        [0.0106, 0.9966, 0.1030, 0.9779],\n",
       "        [0.0091, 0.9968, 0.1028, 0.9801]])"
      ]
     },
     "execution_count": 16,
     "metadata": {},
     "output_type": "execute_result"
    }
   ],
   "source": [
    "LALA = torch.tensor(LALA)\n",
    "LALA"
   ]
  },
  {
   "cell_type": "code",
   "execution_count": 17,
   "id": "4bf8ede7",
   "metadata": {
    "execution": {
     "iopub.execute_input": "2025-08-24T11:31:47.389678Z",
     "iopub.status.busy": "2025-08-24T11:31:47.389452Z",
     "iopub.status.idle": "2025-08-24T11:31:48.149531Z",
     "shell.execute_reply": "2025-08-24T11:31:48.148832Z"
    },
    "papermill": {
     "duration": 0.769896,
     "end_time": "2025-08-24T11:31:48.150955",
     "exception": false,
     "start_time": "2025-08-24T11:31:47.381059",
     "status": "completed"
    },
    "tags": []
   },
   "outputs": [
    {
     "data": {
      "image/png": "[encoded data removed]",
      "text/plain": [
       "<Figure size 1000x1000 with 4 Axes>"
      ]
     },
     "metadata": {},
     "output_type": "display_data"
    }
   ],
   "source": [
    "x = list(range(1, EPOCHS + 1))\n",
    "plot_names = ['train_loss', 'train_acc', 'test_loss', 'test_acc']\n",
    "\n",
    "fig = plt.figure(figsize=(10, 10))\n",
    "rows, cols = 2, 2\n",
    "for i in range(4):\n",
    "    fig.add_subplot(rows, cols, i + 1)\n",
    "    plt.plot(x, LALA[:, i], color = 'red' if i % 2 == 0 else 'blue')\n",
    "    plt.xticks(x, fontsize=7)\n",
    "    plt.xlabel('epoch', fontsize=7, fontstyle='italic')\n",
    "    if i % 2 == 0:\n",
    "        plt.ylim(0, .5)\n",
    "    else:\n",
    "        plt.ylim(.85, 1)\n",
    "    plt.title(plot_names[i], fontweight='bold')\n",
    "    plt.grid(True)\n",
    "fig.show()"
   ]
  },
  {
   "cell_type": "markdown",
   "id": "16410b13",
   "metadata": {
    "papermill": {
     "duration": 0.008832,
     "end_time": "2025-08-24T11:31:48.169259",
     "exception": false,
     "start_time": "2025-08-24T11:31:48.160427",
     "status": "completed"
    },
    "tags": []
   },
   "source": [
    "### I like that only 1 epoch of training already results a 95% accuracy on test dataset)"
   ]
  },
  {
   "cell_type": "markdown",
   "id": "4c914f01",
   "metadata": {
    "papermill": {
     "duration": 0.00883,
     "end_time": "2025-08-24T11:31:48.186908",
     "exception": false,
     "start_time": "2025-08-24T11:31:48.178078",
     "status": "completed"
    },
    "tags": []
   },
   "source": [
    "# 7. Displaying several misclassifications.\n",
    "##### P.S.: this idea was taken from this notebook: https://www.kaggle.com/code/tahmidmir/hand-written-digit-recognition-using-mnist-dataset"
   ]
  },
  {
   "cell_type": "code",
   "execution_count": 18,
   "id": "44eb2de5",
   "metadata": {
    "execution": {
     "iopub.execute_input": "2025-08-24T11:31:48.205590Z",
     "iopub.status.busy": "2025-08-24T11:31:48.205048Z",
     "iopub.status.idle": "2025-08-24T11:31:49.239038Z",
     "shell.execute_reply": "2025-08-24T11:31:49.238239Z"
    },
    "papermill": {
     "duration": 1.044587,
     "end_time": "2025-08-24T11:31:49.240305",
     "exception": false,
     "start_time": "2025-08-24T11:31:48.195718",
     "status": "completed"
    },
    "tags": []
   },
   "outputs": [],
   "source": [
    "N = 9 # how many misclassifications to display. 9 = 3x3.\n",
    "\n",
    "model.eval()\n",
    "test_outputs = []\n",
    "test_labels = []\n",
    "with torch.no_grad():\n",
    "    for x, y in test_DL:\n",
    "        x = x.to(device)\n",
    "        logits = model(x).argmax(1)\n",
    "        test_outputs.append(logits.cpu())\n",
    "\n",
    "        test_labels.append(y)\n",
    "test_outputs = torch.cat(test_outputs)\n",
    "test_labels = torch.cat(test_labels)"
   ]
  },
  {
   "cell_type": "code",
   "execution_count": 19,
   "id": "dd4dd435",
   "metadata": {
    "execution": {
     "iopub.execute_input": "2025-08-24T11:31:49.260731Z",
     "iopub.status.busy": "2025-08-24T11:31:49.260165Z",
     "iopub.status.idle": "2025-08-24T11:31:49.264708Z",
     "shell.execute_reply": "2025-08-24T11:31:49.264097Z"
    },
    "papermill": {
     "duration": 0.015845,
     "end_time": "2025-08-24T11:31:49.265837",
     "exception": false,
     "start_time": "2025-08-24T11:31:49.249992",
     "status": "completed"
    },
    "tags": []
   },
   "outputs": [
    {
     "name": "stdout",
     "output_type": "stream",
     "text": [
      "Total misclassifications for the test dataset: 199.\n"
     ]
    }
   ],
   "source": [
    "mask = test_outputs != test_labels\n",
    "print(f'Total misclassifications for the test dataset: {mask.sum()}.')"
   ]
  },
  {
   "cell_type": "code",
   "execution_count": 20,
   "id": "6b8a9582",
   "metadata": {
    "execution": {
     "iopub.execute_input": "2025-08-24T11:31:49.284493Z",
     "iopub.status.busy": "2025-08-24T11:31:49.284054Z",
     "iopub.status.idle": "2025-08-24T11:31:49.289273Z",
     "shell.execute_reply": "2025-08-24T11:31:49.288781Z"
    },
    "papermill": {
     "duration": 0.01563,
     "end_time": "2025-08-24T11:31:49.290343",
     "exception": false,
     "start_time": "2025-08-24T11:31:49.274713",
     "status": "completed"
    },
    "tags": []
   },
   "outputs": [
    {
     "data": {
      "text/plain": [
       "tensor([115, 247, 274, 321, 340, 381, 445, 447, 495])"
      ]
     },
     "execution_count": 20,
     "metadata": {},
     "output_type": "execute_result"
    }
   ],
   "source": [
    "indexes = mask.nonzero(as_tuple=True)[0]\n",
    "indexes = indexes[:N]\n",
    "indexes"
   ]
  },
  {
   "cell_type": "code",
   "execution_count": 21,
   "id": "6d38fc65",
   "metadata": {
    "execution": {
     "iopub.execute_input": "2025-08-24T11:31:49.309103Z",
     "iopub.status.busy": "2025-08-24T11:31:49.308924Z",
     "iopub.status.idle": "2025-08-24T11:31:49.792694Z",
     "shell.execute_reply": "2025-08-24T11:31:49.791985Z"
    },
    "papermill": {
     "duration": 0.494963,
     "end_time": "2025-08-24T11:31:49.794312",
     "exception": false,
     "start_time": "2025-08-24T11:31:49.299349",
     "status": "completed"
    },
    "tags": []
   },
   "outputs": [
    {
     "data": {
      "image/png": "[encoded data removed]",
      "text/plain": [
       "<Figure size 800x800 with 9 Axes>"
      ]
     },
     "metadata": {},
     "output_type": "display_data"
    }
   ],
   "source": [
    "fig = plt.figure(figsize=(8, 8))\n",
    "fig.suptitle('Several samples of misclassifications:', fontweight='bold')\n",
    "rows, cols = 3, 3\n",
    "for i in range(rows * cols):\n",
    "    index = indexes[i]\n",
    "    image, label = test[index]\n",
    "    image = image.reshape(28, 28)\n",
    "    fig.add_subplot(rows, cols, i + 1)\n",
    "    plt.imshow(image.squeeze(), cmap='gray')\n",
    "    plt.title(f'pred = {test_outputs[index]} | real = {test_labels[index]}')\n",
    "    plt.axis(False)\n",
    "fig.show()"
   ]
  },
  {
   "cell_type": "markdown",
   "id": "6a3586f7",
   "metadata": {
    "papermill": {
     "duration": 0.009266,
     "end_time": "2025-08-24T11:31:49.814029",
     "exception": false,
     "start_time": "2025-08-24T11:31:49.804763",
     "status": "completed"
    },
    "tags": []
   },
   "source": [
    "# 8. Conclusion.\n",
    "### This notebook is the first one where I've teached a neural network. It was hard to work with new framework but I did it.\n",
    "### I think that in my future works I have to learn and apply some regularization techniques ('early stopping' and/or 'dropout') because on the plots we can observe that on the last epochs **test_loss** has grown a little bit and **test_acc** has reduced a little bit."
   ]
  },
  {
   "cell_type": "markdown",
   "id": "fd992c29",
   "metadata": {
    "papermill": {
     "duration": 0.009113,
     "end_time": "2025-08-24T11:31:49.832411",
     "exception": false,
     "start_time": "2025-08-24T11:31:49.823298",
     "status": "completed"
    },
    "tags": []
   },
   "source": [
    "# The end! ;)"
   ]
  }
 ],
 "metadata": {
  "kaggle": {
   "accelerator": "gpu",
   "dataSources": [],
   "dockerImageVersionId": 31089,
   "isGpuEnabled": true,
   "isInternetEnabled": true,
   "language": "python",
   "sourceType": "notebook"
  },
  "kernelspec": {
   "display_name": "Python 3",
   "language": "python",
   "name": "python3"
  },
  "language_info": {
   "codemirror_mode": {
    "name": "ipython",
    "version": 3
   },
   "file_extension": ".py",
   "mimetype": "text/x-python",
   "name": "python",
   "nbconvert_exporter": "python",
   "pygments_lexer": "ipython3",
   "version": "3.11.13"
  },
  "papermill": {
   "default_parameters": {},
   "duration": 170.896913,
   "end_time": "2025-08-24T11:31:51.361611",
   "environment_variables": {},
   "exception": null,
   "input_path": "__notebook__.ipynb",
   "output_path": "__notebook__.ipynb",
   "parameters": {},
   "start_time": "2025-08-24T11:29:00.464698",
   "version": "2.6.0"
  }
 },
 "nbformat": 4,
 "nbformat_minor": 5
}
