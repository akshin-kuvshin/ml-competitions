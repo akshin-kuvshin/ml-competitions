{
 "cells": [
  {
   "cell_type": "markdown",
   "id": "a363c427",
   "metadata": {
    "papermill": {
     "duration": 0.004877,
     "end_time": "2025-08-23T19:02:55.961481",
     "exception": false,
     "start_time": "2025-08-23T19:02:55.956604",
     "status": "completed"
    },
    "tags": []
   },
   "source": [
    "# 0. Libraries."
   ]
  },
  {
   "cell_type": "code",
   "execution_count": 1,
   "id": "e5c41467",
   "metadata": {
    "execution": {
     "iopub.execute_input": "2025-08-23T19:02:55.971191Z",
     "iopub.status.busy": "2025-08-23T19:02:55.970594Z",
     "iopub.status.idle": "2025-08-23T19:03:05.767964Z",
     "shell.execute_reply": "2025-08-23T19:03:05.767058Z"
    },
    "papermill": {
     "duration": 9.803655,
     "end_time": "2025-08-23T19:03:05.769378",
     "exception": false,
     "start_time": "2025-08-23T19:02:55.965723",
     "status": "completed"
    },
    "tags": []
   },
   "outputs": [
    {
     "name": "stdout",
     "output_type": "stream",
     "text": [
      "Setup completed.\n"
     ]
    }
   ],
   "source": [
    "import torch\n",
    "from torch import nn, optim\n",
    "from torch.nn import functional as F\n",
    "from torch.utils.data import Subset, DataLoader\n",
    "from torchvision import datasets, transforms\n",
    "import numpy as np\n",
    "from matplotlib import pyplot as plt\n",
    "import operator as op\n",
    "\n",
    "print('Setup completed.')"
   ]
  },
  {
   "cell_type": "markdown",
   "id": "0d19f2ad",
   "metadata": {
    "papermill": {
     "duration": 0.004034,
     "end_time": "2025-08-23T19:03:05.777815",
     "exception": false,
     "start_time": "2025-08-23T19:03:05.773781",
     "status": "completed"
    },
    "tags": []
   },
   "source": [
    "# 1. Loading MNIST dataset."
   ]
  },
  {
   "cell_type": "code",
   "execution_count": 2,
   "id": "7a682abf",
   "metadata": {
    "execution": {
     "iopub.execute_input": "2025-08-23T19:03:05.788147Z",
     "iopub.status.busy": "2025-08-23T19:03:05.787628Z",
     "iopub.status.idle": "2025-08-23T19:03:05.791711Z",
     "shell.execute_reply": "2025-08-23T19:03:05.791041Z"
    },
    "papermill": {
     "duration": 0.011169,
     "end_time": "2025-08-23T19:03:05.792822",
     "exception": false,
     "start_time": "2025-08-23T19:03:05.781653",
     "status": "completed"
    },
    "tags": []
   },
   "outputs": [],
   "source": [
    "# hardcode.\n",
    "MNIST_mean = 0.1307\n",
    "MNIST_std = 0.3081\n",
    "\n",
    "transform = transforms.Compose([\n",
    "    transforms.ToTensor(), # converts digit's image to a (1, 28, 28) tensor pixel-by-pixel.\n",
    "    transforms.Normalize((MNIST_mean,), (MNIST_std,)), # normalizes (1, 28, 28) tensor. \n",
    "    transforms.Lambda(lambda x: x.view(-1)) # reshapes (1, 28, 28) tensor to (784,) tensor.\n",
    "])"
   ]
  },
  {
   "cell_type": "code",
   "execution_count": 3,
   "id": "cb912417",
   "metadata": {
    "execution": {
     "iopub.execute_input": "2025-08-23T19:03:05.801526Z",
     "iopub.status.busy": "2025-08-23T19:03:05.801331Z",
     "iopub.status.idle": "2025-08-23T19:03:10.952551Z",
     "shell.execute_reply": "2025-08-23T19:03:10.951723Z"
    },
    "papermill": {
     "duration": 5.157244,
     "end_time": "2025-08-23T19:03:10.954103",
     "exception": false,
     "start_time": "2025-08-23T19:03:05.796859",
     "status": "completed"
    },
    "tags": []
   },
   "outputs": [
    {
     "name": "stderr",
     "output_type": "stream",
     "text": [
      "100%|██████████| 9.91M/9.91M [00:00<00:00, 12.7MB/s]\n",
      "100%|██████████| 28.9k/28.9k [00:00<00:00, 342kB/s]\n",
      "100%|██████████| 1.65M/1.65M [00:00<00:00, 3.17MB/s]\n",
      "100%|██████████| 4.54k/4.54k [00:00<00:00, 8.94MB/s]"
     ]
    },
    {
     "name": "stdout",
     "output_type": "stream",
     "text": [
      "Datasets loaded successfully.\n"
     ]
    },
    {
     "name": "stderr",
     "output_type": "stream",
     "text": [
      "\n"
     ]
    }
   ],
   "source": [
    "train = datasets.MNIST(\n",
    "    root='./data/',\n",
    "    download=True,\n",
    "    train=True,\n",
    "    transform=transform\n",
    ")\n",
    "test = datasets.MNIST(\n",
    "    root='./data/',\n",
    "    download=True,\n",
    "    train=False,\n",
    "    transform=transform\n",
    ")\n",
    "print('Datasets loaded successfully.')"
   ]
  },
  {
   "cell_type": "markdown",
   "id": "c9ac82de",
   "metadata": {
    "papermill": {
     "duration": 0.004788,
     "end_time": "2025-08-23T19:03:10.964262",
     "exception": false,
     "start_time": "2025-08-23T19:03:10.959474",
     "status": "completed"
    },
    "tags": []
   },
   "source": [
    "# 2. Researching some data's PRIKOLЫ)"
   ]
  },
  {
   "cell_type": "markdown",
   "id": "82b2f410",
   "metadata": {
    "papermill": {
     "duration": 0.004442,
     "end_time": "2025-08-23T19:03:10.974012",
     "exception": false,
     "start_time": "2025-08-23T19:03:10.969570",
     "status": "completed"
    },
    "tags": []
   },
   "source": [
    "### 2.1. Displaying several handwritten digits."
   ]
  },
  {
   "cell_type": "code",
   "execution_count": 4,
   "id": "81396ef5",
   "metadata": {
    "execution": {
     "iopub.execute_input": "2025-08-23T19:03:10.984236Z",
     "iopub.status.busy": "2025-08-23T19:03:10.983978Z",
     "iopub.status.idle": "2025-08-23T19:03:11.509805Z",
     "shell.execute_reply": "2025-08-23T19:03:11.508899Z"
    },
    "papermill": {
     "duration": 0.533017,
     "end_time": "2025-08-23T19:03:11.511623",
     "exception": false,
     "start_time": "2025-08-23T19:03:10.978606",
     "status": "completed"
    },
    "tags": []
   },
   "outputs": [
    {
     "data": {
      "image/png": "[encoded data removed]",
      "text/plain": [
       "<Figure size 600x600 with 9 Axes>"
      ]
     },
     "metadata": {},
     "output_type": "display_data"
    }
   ],
   "source": [
    "# this cell's code was mostly taken from this notebook:\n",
    "# https://www.kaggle.com/code/faduregis/computer-vision-with-pytorch-using-mnist-dataset\n",
    "\n",
    "torch.manual_seed(42)\n",
    "\n",
    "fig = plt.figure(figsize=(6, 6))\n",
    "rows, cols = 3, 3\n",
    "for i in range(rows * cols):\n",
    "    index = torch.randint(len(train), size=(1,)).item()\n",
    "    image, label = train[index]\n",
    "    image = image.reshape(28, 28)\n",
    "    fig.add_subplot(rows, cols, i + 1)\n",
    "    plt.imshow(image.squeeze(), cmap=\"gray\")\n",
    "    plt.title(train.classes[label])\n",
    "    plt.axis(False)\n",
    "fig.show()"
   ]
  },
  {
   "cell_type": "markdown",
   "id": "895012e2",
   "metadata": {
    "papermill": {
     "duration": 0.005362,
     "end_time": "2025-08-23T19:03:11.523449",
     "exception": false,
     "start_time": "2025-08-23T19:03:11.518087",
     "status": "completed"
    },
    "tags": []
   },
   "source": [
    "### 2.2. Plotting distribution of images by digits written on them."
   ]
  },
  {
   "cell_type": "code",
   "execution_count": 5,
   "id": "3defa381",
   "metadata": {
    "execution": {
     "iopub.execute_input": "2025-08-23T19:03:11.536353Z",
     "iopub.status.busy": "2025-08-23T19:03:11.536096Z",
     "iopub.status.idle": "2025-08-23T19:03:11.871801Z",
     "shell.execute_reply": "2025-08-23T19:03:11.871127Z"
    },
    "papermill": {
     "duration": 0.343921,
     "end_time": "2025-08-23T19:03:11.873256",
     "exception": false,
     "start_time": "2025-08-23T19:03:11.529335",
     "status": "completed"
    },
    "tags": []
   },
   "outputs": [
    {
     "data": {
      "image/png": "[encoded data removed]",
      "text/plain": [
       "<Figure size 640x480 with 1 Axes>"
      ]
     },
     "metadata": {},
     "output_type": "display_data"
    }
   ],
   "source": [
    "classes, counts = train.targets.unique(return_counts=True)\n",
    "x = plt.bar(\n",
    "    classes,\n",
    "    counts,\n",
    "    edgecolor='black',\n",
    "    tick_label=classes\n",
    ")\n",
    "plt.bar_label(x)\n",
    "plt.grid(axis='y', alpha=0.3)\n",
    "plt.title('Distribution of images by digits written on them')\n",
    "plt.xlabel('Digits')\n",
    "plt.ylabel('Frequency')\n",
    "plt.ylim(0, 8_000)\n",
    "plt.show()"
   ]
  },
  {
   "cell_type": "markdown",
   "id": "97e20723",
   "metadata": {
    "papermill": {
     "duration": 0.005515,
     "end_time": "2025-08-23T19:03:11.884875",
     "exception": false,
     "start_time": "2025-08-23T19:03:11.879360",
     "status": "completed"
    },
    "tags": []
   },
   "source": [
    "#### [!] This one code cell below will help us in my hypothesis (I haven't written about it yet) a little bit later..."
   ]
  },
  {
   "cell_type": "code",
   "execution_count": 6,
   "id": "c8b1545d",
   "metadata": {
    "execution": {
     "iopub.execute_input": "2025-08-23T19:03:11.896678Z",
     "iopub.status.busy": "2025-08-23T19:03:11.896452Z",
     "iopub.status.idle": "2025-08-23T19:03:11.901732Z",
     "shell.execute_reply": "2025-08-23T19:03:11.901142Z"
    },
    "papermill": {
     "duration": 0.012515,
     "end_time": "2025-08-23T19:03:11.902847",
     "exception": false,
     "start_time": "2025-08-23T19:03:11.890332",
     "status": "completed"
    },
    "tags": []
   },
   "outputs": [
    {
     "name": "stdout",
     "output_type": "stream",
     "text": [
      "Digits sorted by their frequency (in ascending order): [5, 4, 8, 6, 0, 9, 2, 3, 7, 1].\n"
     ]
    }
   ],
   "source": [
    "classes = [c.item() for c in classes]\n",
    "counts = [c.item() for c in counts]\n",
    "paired = list(zip(classes, counts))\n",
    "paired.sort(key=op.itemgetter(1))\n",
    "digits_sorted_by_frequency = [digit for digit, _ in paired]\n",
    "print(f'Digits sorted by their frequency (in ascending order): {digits_sorted_by_frequency}.')"
   ]
  },
  {
   "cell_type": "markdown",
   "id": "ba9cc7ed",
   "metadata": {
    "papermill": {
     "duration": 0.005483,
     "end_time": "2025-08-23T19:03:11.914109",
     "exception": false,
     "start_time": "2025-08-23T19:03:11.908626",
     "status": "completed"
    },
    "tags": []
   },
   "source": [
    "### 2.3. Getting mean image for each of digits (for each digit I calculate every pixel's mean value and display result on the screen);\n",
    "### 2.4. Calculaing mean pixel's standard deviation (further - MPSD) for each digit; detecting digits with the smallest and the biggest values of MPSD.\n",
    "##### P.S.: ChatGPT's ideas, my (with help by ChatGPT, of course) realizations."
   ]
  },
  {
   "cell_type": "code",
   "execution_count": 7,
   "id": "a9287129",
   "metadata": {
    "execution": {
     "iopub.execute_input": "2025-08-23T19:03:11.926156Z",
     "iopub.status.busy": "2025-08-23T19:03:11.925756Z",
     "iopub.status.idle": "2025-08-23T19:03:22.692876Z",
     "shell.execute_reply": "2025-08-23T19:03:22.691964Z"
    },
    "papermill": {
     "duration": 10.774285,
     "end_time": "2025-08-23T19:03:22.694084",
     "exception": false,
     "start_time": "2025-08-23T19:03:11.919799",
     "status": "completed"
    },
    "tags": []
   },
   "outputs": [
    {
     "data": {
      "image/png": "[encoded data removed]",
      "text/plain": [
       "<Figure size 1000x400 with 10 Axes>"
      ]
     },
     "metadata": {},
     "output_type": "display_data"
    },
    {
     "name": "stdout",
     "output_type": "stream",
     "text": [
      "MPSDs for each digit:\n",
      "0 - 0.572236\n",
      "1 - 0.307724\n",
      "2 - 0.599240\n",
      "3 - 0.549594\n",
      "4 - 0.519821\n",
      "5 - 0.570436\n",
      "6 - 0.519783\n",
      "7 - 0.483978\n",
      "8 - 0.544318\n",
      "9 - 0.482412\n",
      "Digit with the minimal MPSD: 1.\n",
      "Digit with the maximal MPSD: 2.\n"
     ]
    }
   ],
   "source": [
    "MPSDs = []\n",
    "\n",
    "fig = plt.figure(figsize=(10, 4))\n",
    "rows, cols = 2, 5\n",
    "for digit in range(10):\n",
    "    mask = train.targets == digit\n",
    "    indexes = mask.nonzero(as_tuple=True)[0]\n",
    "    subset = Subset(train, indexes)\n",
    "    images = torch.stack([t[0] for t in subset])\n",
    "    \n",
    "    mean_image = images.mean(dim=0).reshape(28, 28)\n",
    "    fig.add_subplot(rows, cols, digit + 1)\n",
    "    plt.imshow(mean_image.squeeze(), cmap=\"gray\")\n",
    "    plt.title(train.classes[digit])\n",
    "    plt.axis(False)\n",
    "\n",
    "    MPSDs.append(images.std(dim=0).mean())\n",
    "plt.show()\n",
    "\n",
    "print('MPSDs for each digit:')\n",
    "for digit in range(10):\n",
    "    print(f'{digit} - {MPSDs[digit]:.6f}')\n",
    "print(f'Digit with the minimal MPSD: {torch.tensor(MPSDs).argmin()}.')\n",
    "print(f'Digit with the maximal MPSD: {torch.tensor(MPSDs).argmax()}.')"
   ]
  },
  {
   "cell_type": "markdown",
   "id": "b113c1ac",
   "metadata": {
    "papermill": {
     "duration": 0.005851,
     "end_time": "2025-08-23T19:03:22.706508",
     "exception": false,
     "start_time": "2025-08-23T19:03:22.700657",
     "status": "completed"
    },
    "tags": []
   },
   "source": [
    "#### [!] Code cell below is the second one, which will be required afterwards."
   ]
  },
  {
   "cell_type": "code",
   "execution_count": 8,
   "id": "938aadf6",
   "metadata": {
    "execution": {
     "iopub.execute_input": "2025-08-23T19:03:22.719454Z",
     "iopub.status.busy": "2025-08-23T19:03:22.719215Z",
     "iopub.status.idle": "2025-08-23T19:03:22.723894Z",
     "shell.execute_reply": "2025-08-23T19:03:22.723305Z"
    },
    "papermill": {
     "duration": 0.012464,
     "end_time": "2025-08-23T19:03:22.724932",
     "exception": false,
     "start_time": "2025-08-23T19:03:22.712468",
     "status": "completed"
    },
    "tags": []
   },
   "outputs": [
    {
     "name": "stdout",
     "output_type": "stream",
     "text": [
      "Digits sorted by their MPSD (in ascending order): [1, 9, 7, 6, 4, 8, 3, 5, 0, 2].\n"
     ]
    }
   ],
   "source": [
    "paired = list(zip(range(10), MPSDs))\n",
    "paired.sort(key=op.itemgetter(1))\n",
    "digits_sorted_by_MPSD = [digit for digit, _ in paired]\n",
    "print(f'Digits sorted by their MPSD (in ascending order): {digits_sorted_by_MPSD}.')"
   ]
  },
  {
   "cell_type": "markdown",
   "id": "254f8af4",
   "metadata": {
    "papermill": {
     "duration": 0.005802,
     "end_time": "2025-08-23T19:03:22.736694",
     "exception": false,
     "start_time": "2025-08-23T19:03:22.730892",
     "status": "completed"
    },
    "tags": []
   },
   "source": [
    "### 2.5. My hypotesis."
   ]
  },
  {
   "cell_type": "code",
   "execution_count": 9,
   "id": "89fa84db",
   "metadata": {
    "execution": {
     "iopub.execute_input": "2025-08-23T19:03:22.749852Z",
     "iopub.status.busy": "2025-08-23T19:03:22.749401Z",
     "iopub.status.idle": "2025-08-23T19:03:22.761692Z",
     "shell.execute_reply": "2025-08-23T19:03:22.761104Z"
    },
    "papermill": {
     "duration": 0.019982,
     "end_time": "2025-08-23T19:03:22.762820",
     "exception": false,
     "start_time": "2025-08-23T19:03:22.742838",
     "status": "completed"
    },
    "tags": []
   },
   "outputs": [
    {
     "name": "stdout",
     "output_type": "stream",
     "text": [
      "\n",
      "Correlations between two orders of digits:\n",
      "1) Sorted by their frequency;\n",
      "2) Sorted by their MPSD.\n",
      "\n",
      "Direct correlation (both orders are ascending) = 0.309;\n",
      "Reverse correlation (one order is ascending, another one is descending) = -0.018.\n",
      "\n"
     ]
    }
   ],
   "source": [
    "direct_correlation = np.corrcoef(\n",
    "    digits_sorted_by_frequency,\n",
    "    digits_sorted_by_MPSD\n",
    ")[0][1]\n",
    "reverse_correlation = np.corrcoef(\n",
    "    digits_sorted_by_frequency,\n",
    "    digits_sorted_by_MPSD[::-1]\n",
    ")[0][1]\n",
    "print(f'''\n",
    "Correlations between two orders of digits:\n",
    "1) Sorted by their frequency;\n",
    "2) Sorted by their MPSD.\n",
    "\n",
    "Direct correlation (both orders are ascending) = {direct_correlation:.3f};\n",
    "Reverse correlation (one order is ascending, another one is descending) = {reverse_correlation:.3f}.\n",
    "''')"
   ]
  },
  {
   "cell_type": "markdown",
   "id": "81a7b0b2",
   "metadata": {
    "papermill": {
     "duration": 0.006155,
     "end_time": "2025-08-23T19:03:22.775022",
     "exception": false,
     "start_time": "2025-08-23T19:03:22.768867",
     "status": "completed"
    },
    "tags": []
   },
   "source": [
    "### My hypotesis was the next:\n",
    "### \"_Let's consider one certain digit. Then the power of how strong images of this digit differ from each other (in our case, metric of this 'difference power' was MPSD) depends on how many images of this digit we have._\"\n",
    "### This thought came in my mind because digit 1 has the biggest images number of it and the the smallest MPSD. However, correlation coefficient's absolute value isn't so big, hence my hypotesis isn't truthful and the fun fact about digit 1 is caused only by that people often write digit 1 just as a single stick which is really simple geometric object, so this digit's MPSD is such a small - only about 0.3.\n",
    "### :)"
   ]
  },
  {
   "cell_type": "markdown",
   "id": "0de546c3",
   "metadata": {
    "papermill": {
     "duration": 0.005977,
     "end_time": "2025-08-23T19:03:22.787101",
     "exception": false,
     "start_time": "2025-08-23T19:03:22.781124",
     "status": "completed"
    },
    "tags": []
   },
   "source": [
    "# 3. Creating a DataLoader."
   ]
  },
  {
   "cell_type": "code",
   "execution_count": 10,
   "id": "789aa299",
   "metadata": {
    "execution": {
     "iopub.execute_input": "2025-08-23T19:03:22.799966Z",
     "iopub.status.busy": "2025-08-23T19:03:22.799793Z",
     "iopub.status.idle": "2025-08-23T19:03:22.804249Z",
     "shell.execute_reply": "2025-08-23T19:03:22.803665Z"
    },
    "papermill": {
     "duration": 0.012122,
     "end_time": "2025-08-23T19:03:22.805285",
     "exception": false,
     "start_time": "2025-08-23T19:03:22.793163",
     "status": "completed"
    },
    "tags": []
   },
   "outputs": [
    {
     "name": "stdout",
     "output_type": "stream",
     "text": [
      "Both DataLoader's have been successfully created.\n"
     ]
    }
   ],
   "source": [
    "BATCH_SIZE = 256\n",
    "\n",
    "train_DL = DataLoader(train, batch_size=BATCH_SIZE, shuffle=True, num_workers=2, pin_memory=True)\n",
    "test_DL = DataLoader(test, batch_size=BATCH_SIZE, shuffle=False, num_workers=2, pin_memory=True)\n",
    "\n",
    "print('Both DataLoader\\'s have been successfully created.')"
   ]
  },
  {
   "cell_type": "code",
   "execution_count": 11,
   "id": "103573e5",
   "metadata": {
    "execution": {
     "iopub.execute_input": "2025-08-23T19:03:22.818334Z",
     "iopub.status.busy": "2025-08-23T19:03:22.818162Z",
     "iopub.status.idle": "2025-08-23T19:03:23.222861Z",
     "shell.execute_reply": "2025-08-23T19:03:23.221786Z"
    },
    "papermill": {
     "duration": 0.412604,
     "end_time": "2025-08-23T19:03:23.224137",
     "exception": false,
     "start_time": "2025-08-23T19:03:22.811533",
     "status": "completed"
    },
    "tags": []
   },
   "outputs": [
    {
     "name": "stdout",
     "output_type": "stream",
     "text": [
      "torch.Size([256, 784])\n",
      "torch.Size([256])\n"
     ]
    }
   ],
   "source": [
    "batch_example = next(iter(train_DL))\n",
    "print(batch_example[0].shape) # (BATCH_SIZE) images.\n",
    "print(batch_example[1].shape) # (BATCH_SIZE) labels."
   ]
  },
  {
   "cell_type": "markdown",
   "id": "e871e1a6",
   "metadata": {
    "papermill": {
     "duration": 0.006103,
     "end_time": "2025-08-23T19:03:23.236941",
     "exception": false,
     "start_time": "2025-08-23T19:03:23.230838",
     "status": "completed"
    },
    "tags": []
   },
   "source": [
    "# 4. Creating a model."
   ]
  },
  {
   "cell_type": "code",
   "execution_count": 12,
   "id": "9dfe2396",
   "metadata": {
    "execution": {
     "iopub.execute_input": "2025-08-23T19:03:23.250206Z",
     "iopub.status.busy": "2025-08-23T19:03:23.249944Z",
     "iopub.status.idle": "2025-08-23T19:03:23.256593Z",
     "shell.execute_reply": "2025-08-23T19:03:23.256031Z"
    },
    "papermill": {
     "duration": 0.014553,
     "end_time": "2025-08-23T19:03:23.257600",
     "exception": false,
     "start_time": "2025-08-23T19:03:23.243047",
     "status": "completed"
    },
    "tags": []
   },
   "outputs": [
    {
     "name": "stdout",
     "output_type": "stream",
     "text": [
      "'ThreeLayerPerceptron' class has been successfully defined.\n"
     ]
    }
   ],
   "source": [
    "class ThreeLayerPerceptron(nn.Module):\n",
    "    def __init__(self,\n",
    "                 inputlayer_size:   int,\n",
    "                 hiddenlayer1_size: int,\n",
    "                 hiddenlayer2_size: int,\n",
    "                 hiddenlayer3_size: int,\n",
    "                 outputlayer_size:  int) -> None:\n",
    "        \n",
    "        super().__init__() # calling the constructor of nn.Module class (the parent class).\n",
    "\n",
    "        # defining connections between model's layers ('fc' stands for 'fully connected').\n",
    "        self.fc1 = nn.Linear(inputlayer_size, hiddenlayer1_size)\n",
    "        self.fc2 = nn.Linear(hiddenlayer1_size, hiddenlayer2_size)\n",
    "        self.fc3 = nn.Linear(hiddenlayer2_size, hiddenlayer3_size)\n",
    "        self.out = nn.Linear(hiddenlayer3_size, outputlayer_size)\n",
    "\n",
    "        return\n",
    "\n",
    "    def forward(self,\n",
    "                x: torch.Tensor) -> torch.Tensor:\n",
    "        x = F.relu(self.fc1(x))\n",
    "        x = F.relu(self.fc2(x))\n",
    "        x = F.relu(self.fc3(x))\n",
    "        x = self.out(x)\n",
    "        # we don't apply Softmax function to output layer's values\n",
    "        # because our loss function will be CrossEntropyLoss\n",
    "        # which will apply Softmax by itself.\n",
    "        return x\n",
    "\n",
    "print('\\'ThreeLayerPerceptron\\' class has been successfully defined.')"
   ]
  },
  {
   "cell_type": "code",
   "execution_count": 13,
   "id": "bec59c6c",
   "metadata": {
    "execution": {
     "iopub.execute_input": "2025-08-23T19:03:23.270518Z",
     "iopub.status.busy": "2025-08-23T19:03:23.270324Z",
     "iopub.status.idle": "2025-08-23T19:03:23.274187Z",
     "shell.execute_reply": "2025-08-23T19:03:23.273485Z"
    },
    "papermill": {
     "duration": 0.011612,
     "end_time": "2025-08-23T19:03:23.275325",
     "exception": false,
     "start_time": "2025-08-23T19:03:23.263713",
     "status": "completed"
    },
    "tags": []
   },
   "outputs": [
    {
     "name": "stdout",
     "output_type": "stream",
     "text": [
      "cuda\n"
     ]
    }
   ],
   "source": [
    "# if it's possible, we will train out model on GPU (CUDA), else - on CPU.\n",
    "device = torch.device('cuda' if torch.cuda.is_available() else 'cpu')\n",
    "print(device)"
   ]
  },
  {
   "cell_type": "code",
   "execution_count": 14,
   "id": "05845847",
   "metadata": {
    "execution": {
     "iopub.execute_input": "2025-08-23T19:03:23.288419Z",
     "iopub.status.busy": "2025-08-23T19:03:23.288226Z",
     "iopub.status.idle": "2025-08-23T19:03:23.301794Z",
     "shell.execute_reply": "2025-08-23T19:03:23.301141Z"
    },
    "papermill": {
     "duration": 0.021257,
     "end_time": "2025-08-23T19:03:23.302901",
     "exception": false,
     "start_time": "2025-08-23T19:03:23.281644",
     "status": "completed"
    },
    "tags": []
   },
   "outputs": [
    {
     "name": "stdout",
     "output_type": "stream",
     "text": [
      "Everything is fine)\n"
     ]
    }
   ],
   "source": [
    "model = ThreeLayerPerceptron(28 ** 2, 256, 128, 64, 10).to(device) # the model itself.\n",
    "criterion = nn.CrossEntropyLoss() # loss function (idk how it calculates, but ChatGPT says it's ok).\n",
    "optimizer = optim.Adam(model.parameters(), lr=1e-3) # idk what it is at all, but, again, ChatGPT says it's ok.\n",
    "print('Everything is fine)')"
   ]
  },
  {
   "cell_type": "markdown",
   "id": "5ce839ab",
   "metadata": {
    "papermill": {
     "duration": 0.005935,
     "end_time": "2025-08-23T19:03:23.315151",
     "exception": false,
     "start_time": "2025-08-23T19:03:23.309216",
     "status": "completed"
    },
    "tags": []
   },
   "source": [
    "# 5. Training loop."
   ]
  },
  {
   "cell_type": "code",
   "execution_count": 15,
   "id": "7382d520",
   "metadata": {
    "execution": {
     "iopub.execute_input": "2025-08-23T19:03:23.328430Z",
     "iopub.status.busy": "2025-08-23T19:03:23.328225Z",
     "iopub.status.idle": "2025-08-23T19:05:42.142740Z",
     "shell.execute_reply": "2025-08-23T19:05:42.141800Z"
    },
    "papermill": {
     "duration": 138.828598,
     "end_time": "2025-08-23T19:05:42.149979",
     "exception": false,
     "start_time": "2025-08-23T19:03:23.321381",
     "status": "completed"
    },
    "tags": []
   },
   "outputs": [
    {
     "name": "stdout",
     "output_type": "stream",
     "text": [
      "Epoch 01: Train loss 0.3950, acc 0.8879 | Test loss 0.1750, acc 0.9463\n",
      "Epoch 02: Train loss 0.1413, acc 0.9577 | Test loss 0.1271, acc 0.9605\n",
      "Epoch 03: Train loss 0.0971, acc 0.9704 | Test loss 0.1053, acc 0.9667\n",
      "Epoch 04: Train loss 0.0706, acc 0.9784 | Test loss 0.0897, acc 0.9707\n",
      "Epoch 05: Train loss 0.0586, acc 0.9813 | Test loss 0.0852, acc 0.9743\n",
      "Epoch 06: Train loss 0.0432, acc 0.9867 | Test loss 0.0731, acc 0.9774\n",
      "Epoch 07: Train loss 0.0348, acc 0.9884 | Test loss 0.0747, acc 0.9774\n",
      "Epoch 08: Train loss 0.0292, acc 0.9908 | Test loss 0.0684, acc 0.9792\n",
      "Epoch 09: Train loss 0.0211, acc 0.9932 | Test loss 0.0781, acc 0.9783\n",
      "Epoch 10: Train loss 0.0203, acc 0.9932 | Test loss 0.0745, acc 0.9791\n",
      "Epoch 11: Train loss 0.0156, acc 0.9948 | Test loss 0.0697, acc 0.9819\n",
      "Epoch 12: Train loss 0.0139, acc 0.9953 | Test loss 0.0794, acc 0.9793\n",
      "Epoch 13: Train loss 0.0130, acc 0.9957 | Test loss 0.0917, acc 0.9776\n",
      "Epoch 14: Train loss 0.0156, acc 0.9949 | Test loss 0.0879, acc 0.9774\n",
      "Epoch 15: Train loss 0.0127, acc 0.9957 | Test loss 0.0948, acc 0.9791\n",
      "Epoch 16: Train loss 0.0110, acc 0.9962 | Test loss 0.0857, acc 0.9808\n",
      "Epoch 17: Train loss 0.0083, acc 0.9974 | Test loss 0.0807, acc 0.9820\n",
      "Epoch 18: Train loss 0.0115, acc 0.9962 | Test loss 0.0866, acc 0.9810\n",
      "Epoch 19: Train loss 0.0106, acc 0.9966 | Test loss 0.1030, acc 0.9779\n",
      "Epoch 20: Train loss 0.0091, acc 0.9968 | Test loss 0.1028, acc 0.9801\n"
     ]
    }
   ],
   "source": [
    "# hardcode.\n",
    "EPOCHS = 20\n",
    "\n",
    "LALA = [] # train_Loss, train_Acc, test_Loss, test_Acc.\n",
    "for epoch in range(EPOCHS):\n",
    "    \n",
    "    model.train() # turning on training mode.\n",
    "    total_loss = 0 # sum of losses for each sample.\n",
    "    correct = 0 # number of correct predictions.\n",
    "    for x, y in train_DL:\n",
    "        x, y = x.to(device), y.to(device) # moving both input and output tensors to the GPU (mostly).\n",
    "        optimizer.zero_grad() # clearing previous gradients.\n",
    "\n",
    "        logits = model(x) # outputs of the model when x is moved to the input.\n",
    "        loss = criterion(logits, y) # value of loss function.\n",
    "        loss.backward() # backpropagation and calculating gradients.\n",
    "        optimizer.step() # updating model's weights.\n",
    "\n",
    "        total_loss += loss.item() * len(y)\n",
    "        # we have to multiply our loss by len(y) (current batch's size\n",
    "        # which is usually equals to BATCH_SIZE excepting, maybe, the last batch)\n",
    "        # because loss.item() is the average loss among all samples in current batch.\n",
    "        correct += (logits.argmax(1) == y).sum().item()\n",
    "    train_loss = total_loss / len(train)\n",
    "    train_acc = correct / len(train) # 'acc' stands for 'accuracy'.\n",
    "\n",
    "    model.eval() # turning on evaluation mode.\n",
    "    total_loss = correct = 0\n",
    "    with torch.no_grad(): # in this block gradients won't be calculated for any operation on the model.\n",
    "        for x, y in test_DL:\n",
    "            x, y = x.to(device), y.to(device)\n",
    "    \n",
    "            logits = model(x)\n",
    "            loss = criterion(logits, y)\n",
    "    \n",
    "            total_loss += loss.item() * len(y)\n",
    "            correct += (logits.argmax(1) == y).sum().item()\n",
    "    test_loss = total_loss / len(test)\n",
    "    test_acc = correct / len(test)\n",
    "\n",
    "    print(f'Epoch {epoch + 1:02d}: '\n",
    "          f'Train loss {train_loss:.4f}, acc {train_acc:.4f} | '\n",
    "          f'Test loss {test_loss:.4f}, acc {test_acc:.4f}')\n",
    "    LALA.append((train_loss, train_acc, test_loss, test_acc))"
   ]
  },
  {
   "cell_type": "markdown",
   "id": "94481c2d",
   "metadata": {
    "papermill": {
     "duration": 0.007053,
     "end_time": "2025-08-23T19:05:42.164924",
     "exception": false,
     "start_time": "2025-08-23T19:05:42.157871",
     "status": "completed"
    },
    "tags": []
   },
   "source": [
    "# 6. Plots of LALA."
   ]
  },
  {
   "cell_type": "code",
   "execution_count": 16,
   "id": "7105acf0",
   "metadata": {
    "execution": {
     "iopub.execute_input": "2025-08-23T19:05:42.180318Z",
     "iopub.status.busy": "2025-08-23T19:05:42.179568Z",
     "iopub.status.idle": "2025-08-23T19:05:42.197291Z",
     "shell.execute_reply": "2025-08-23T19:05:42.196723Z"
    },
    "papermill": {
     "duration": 0.026552,
     "end_time": "2025-08-23T19:05:42.198329",
     "exception": false,
     "start_time": "2025-08-23T19:05:42.171777",
     "status": "completed"
    },
    "tags": []
   },
   "outputs": [
    {
     "data": {
      "text/plain": [
       "tensor([[0.3950, 0.8879, 0.1750, 0.9463],\n",
       "        [0.1413, 0.9577, 0.1271, 0.9605],\n",
       "        [0.0971, 0.9704, 0.1053, 0.9667],\n",
       "        [0.0706, 0.9784, 0.0897, 0.9707],\n",
       "        [0.0586, 0.9813, 0.0852, 0.9743],\n",
       "        [0.0432, 0.9867, 0.0731, 0.9774],\n",
       "        [0.0348, 0.9884, 0.0747, 0.9774],\n",
       "        [0.0292, 0.9908, 0.0684, 0.9792],\n",
       "        [0.0211, 0.9932, 0.0781, 0.9783],\n",
       "        [0.0203, 0.9932, 0.0745, 0.9791],\n",
       "        [0.0156, 0.9948, 0.0697, 0.9819],\n",
       "        [0.0139, 0.9953, 0.0794, 0.9793],\n",
       "        [0.0130, 0.9956, 0.0917, 0.9776],\n",
       "        [0.0156, 0.9949, 0.0879, 0.9774],\n",
       "        [0.0127, 0.9957, 0.0948, 0.9791],\n",
       "        [0.0110, 0.9962, 0.0857, 0.9808],\n",
       "        [0.0083, 0.9974, 0.0807, 0.9820],\n",
       "        [0.0115, 0.9962, 0.0866, 0.9810],\n",
       "        [0.0106, 0.9966, 0.1030, 0.9779],\n",
       "        [0.0091, 0.9968, 0.1028, 0.9801]])"
      ]
     },
     "execution_count": 16,
     "metadata": {},
     "output_type": "execute_result"
    }
   ],
   "source": [
    "LALA = torch.tensor(LALA)\n",
    "LALA"
   ]
  },
  {
   "cell_type": "code",
   "execution_count": 17,
   "id": "d59b3d5e",
   "metadata": {
    "execution": {
     "iopub.execute_input": "2025-08-23T19:05:42.213545Z",
     "iopub.status.busy": "2025-08-23T19:05:42.213081Z",
     "iopub.status.idle": "2025-08-23T19:05:42.995558Z",
     "shell.execute_reply": "2025-08-23T19:05:42.994852Z"
    },
    "papermill": {
     "duration": 0.791428,
     "end_time": "2025-08-23T19:05:42.996817",
     "exception": false,
     "start_time": "2025-08-23T19:05:42.205389",
     "status": "completed"
    },
    "tags": []
   },
   "outputs": [
    {
     "data": {
      "image/png": "[encoded data removed]",
      "text/plain": [
       "<Figure size 1000x1000 with 4 Axes>"
      ]
     },
     "metadata": {},
     "output_type": "display_data"
    }
   ],
   "source": [
    "x = list(range(1, EPOCHS + 1))\n",
    "plot_names = ['train_loss', 'train_acc', 'test_loss', 'test_acc']\n",
    "\n",
    "fig = plt.figure(figsize=(10, 10))\n",
    "rows, cols = 2, 2\n",
    "for i in range(4):\n",
    "    fig.add_subplot(rows, cols, i + 1)\n",
    "    plt.plot(x, LALA[:, i], color = 'red' if i % 2 == 0 else 'blue')\n",
    "    plt.xticks(x, fontsize=7)\n",
    "    plt.xlabel('epoch', fontsize=7, fontstyle='italic')\n",
    "    if i % 2 == 0:\n",
    "        plt.ylim(0, .5)\n",
    "    else:\n",
    "        plt.ylim(.85, 1)\n",
    "    plt.title(plot_names[i], fontweight='bold')\n",
    "    plt.grid(True)\n",
    "fig.show()"
   ]
  },
  {
   "cell_type": "markdown",
   "id": "678b8b9c",
   "metadata": {
    "papermill": {
     "duration": 0.053198,
     "end_time": "2025-08-23T19:05:43.058796",
     "exception": false,
     "start_time": "2025-08-23T19:05:43.005598",
     "status": "completed"
    },
    "tags": []
   },
   "source": [
    "### I like that only 1 epoch of training already results a 95% accuracy on test dataset)"
   ]
  },
  {
   "cell_type": "markdown",
   "id": "c5833d93",
   "metadata": {
    "papermill": {
     "duration": 0.008204,
     "end_time": "2025-08-23T19:05:43.075058",
     "exception": false,
     "start_time": "2025-08-23T19:05:43.066854",
     "status": "completed"
    },
    "tags": []
   },
   "source": [
    "# 7. Conclusion.\n",
    "### This notebook is the first one where I've teached a neural network. It was hard to work with new framework but I did it.\n",
    "### I think that in my future works I have to learn and apply some regularization techniques ('early stopping' and/or 'dropout') because on the plots we can observe that on the last epochs **test_loss** has grown a little bit and **test_acc** has reduced a little bit."
   ]
  },
  {
   "cell_type": "markdown",
   "id": "44657863",
   "metadata": {
    "papermill": {
     "duration": 0.00778,
     "end_time": "2025-08-23T19:05:43.090856",
     "exception": false,
     "start_time": "2025-08-23T19:05:43.083076",
     "status": "completed"
    },
    "tags": []
   },
   "source": [
    "# The end! ;)"
   ]
  }
 ],
 "metadata": {
  "kaggle": {
   "accelerator": "gpu",
   "dataSources": [],
   "dockerImageVersionId": 31089,
   "isGpuEnabled": true,
   "isInternetEnabled": true,
   "language": "python",
   "sourceType": "notebook"
  },
  "kernelspec": {
   "display_name": "Python 3",
   "language": "python",
   "name": "python3"
  },
  "language_info": {
   "codemirror_mode": {
    "name": "ipython",
    "version": 3
   },
   "file_extension": ".py",
   "mimetype": "text/x-python",
   "name": "python",
   "nbconvert_exporter": "python",
   "pygments_lexer": "ipython3",
   "version": "3.11.13"
  },
  "papermill": {
   "default_parameters": {},
   "duration": 173.132413,
   "end_time": "2025-08-23T19:05:44.619355",
   "environment_variables": {},
   "exception": null,
   "input_path": "__notebook__.ipynb",
   "output_path": "__notebook__.ipynb",
   "parameters": {},
   "start_time": "2025-08-23T19:02:51.486942",
   "version": "2.6.0"
  }
 },
 "nbformat": 4,
 "nbformat_minor": 5
}
